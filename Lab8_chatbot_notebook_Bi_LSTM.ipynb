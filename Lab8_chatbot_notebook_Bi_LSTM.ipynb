{
  "cells": [
    {
      "cell_type": "code",
      "execution_count": null,
      "metadata": {
        "id": "YRQwkxlPuVtq"
      },
      "outputs": [],
      "source": [
        "import pandas as pd\n",
        "import numpy as np\n",
        "import os\n",
        "import yaml\n",
        "import matplotlib.pyplot as plt\n",
        "\n",
        "plt.style.use('fivethirtyeight')\n",
        "plt.rcParams['figure.figsize'] = [12, 6]\n",
        "import warnings\n",
        "warnings.filterwarnings(\"ignore\")\n",
        "%config InlineBackend.figure_format = 'retina'"
      ]
    },
    {
      "cell_type": "code",
      "execution_count": null,
      "metadata": {
        "id": "opc8_723uVts"
      },
      "outputs": [],
      "source": [
        "filenames = (os.listdir(\"data/\"))"
      ]
    },
    {
      "cell_type": "code",
      "execution_count": null,
      "metadata": {
        "id": "RwJFVnVJuVts"
      },
      "outputs": [],
      "source": [
        "data = pd.DataFrame(columns={\"question\",\"answer\",\"category\"})"
      ]
    },
    {
      "cell_type": "code",
      "execution_count": null,
      "metadata": {
        "id": "eALA7g7AuVts"
      },
      "outputs": [],
      "source": [
        "for file in filenames:\n",
        "\n",
        "    data_curr = pd.DataFrame(columns={\"question\",\"answer\",\"category\"})\n",
        "\n",
        "    file = open(\"data/\"+file)\n",
        "    file = yaml.load(file)\n",
        "    category = file[\"categories\"]\n",
        "    conversation = file[\"conversations\"]\n",
        "\n",
        "    question = []\n",
        "    answer = []\n",
        "\n",
        "    for i in range(len(conversation)):\n",
        "        st = str(conversation[i]).split(\",\")\n",
        "        ques = st[0]\n",
        "        ans = st[1]\n",
        "        question.append(ques)\n",
        "        answer.append(ans)\n",
        "\n",
        "    data_curr[\"question\"]=question\n",
        "    data_curr[\"answer\"]=answer\n",
        "    data_curr[\"category\"]=str(category[0])\n",
        "    data_curr = data_curr[['question','answer','category']]\n",
        "\n",
        "    data = data.append(data_curr,ignore_index=True)"
      ]
    },
    {
      "cell_type": "code",
      "execution_count": null,
      "metadata": {
        "id": "8elF9VwAuVtt"
      },
      "outputs": [],
      "source": [
        "data = data[['question','answer','category']]"
      ]
    },
    {
      "cell_type": "code",
      "execution_count": null,
      "metadata": {
        "id": "uMX0_1VfuVtt",
        "outputId": "7d6141d7-d982-4d0d-b0c8-b2965e02e88e"
      },
      "outputs": [
        {
          "data": {
            "text/plain": [
              "(584, 3)"
            ]
          },
          "execution_count": 8,
          "metadata": {},
          "output_type": "execute_result"
        }
      ],
      "source": [
        "data.shape"
      ]
    },
    {
      "cell_type": "code",
      "execution_count": null,
      "metadata": {
        "id": "5lZc0lm7uVtu",
        "outputId": "0c9ebe82-833e-4dc0-a1d7-b2ca1ae50106"
      },
      "outputs": [
        {
          "data": {
            "text/html": [
              "<div>\n",
              "<style scoped>\n",
              "    .dataframe tbody tr th:only-of-type {\n",
              "        vertical-align: middle;\n",
              "    }\n",
              "\n",
              "    .dataframe tbody tr th {\n",
              "        vertical-align: top;\n",
              "    }\n",
              "\n",
              "    .dataframe thead th {\n",
              "        text-align: right;\n",
              "    }\n",
              "</style>\n",
              "<table border=\"1\" class=\"dataframe\">\n",
              "  <thead>\n",
              "    <tr style=\"text-align: right;\">\n",
              "      <th></th>\n",
              "      <th>question</th>\n",
              "      <th>answer</th>\n",
              "      <th>category</th>\n",
              "    </tr>\n",
              "  </thead>\n",
              "  <tbody>\n",
              "    <tr>\n",
              "      <th>0</th>\n",
              "      <td>['What is AI?'</td>\n",
              "      <td>'Artificial Intelligence is the branch of eng...</td>\n",
              "      <td>AI</td>\n",
              "    </tr>\n",
              "    <tr>\n",
              "      <th>1</th>\n",
              "      <td>['What is AI?'</td>\n",
              "      <td>'AI is the field of science which concerns it...</td>\n",
              "      <td>AI</td>\n",
              "    </tr>\n",
              "    <tr>\n",
              "      <th>2</th>\n",
              "      <td>['Are you sentient?'</td>\n",
              "      <td>'Sort of.']</td>\n",
              "      <td>AI</td>\n",
              "    </tr>\n",
              "    <tr>\n",
              "      <th>3</th>\n",
              "      <td>['Are you sentient?'</td>\n",
              "      <td>\"By the strictest dictionary definition of th...</td>\n",
              "      <td>AI</td>\n",
              "    </tr>\n",
              "    <tr>\n",
              "      <th>4</th>\n",
              "      <td>['Are you sentient?'</td>\n",
              "      <td>\"Even though I'm a construct I do have a subj...</td>\n",
              "      <td>AI</td>\n",
              "    </tr>\n",
              "  </tbody>\n",
              "</table>\n",
              "</div>"
            ],
            "text/plain": [
              "               question                                             answer  \\\n",
              "0        ['What is AI?'   'Artificial Intelligence is the branch of eng...   \n",
              "1        ['What is AI?'   'AI is the field of science which concerns it...   \n",
              "2  ['Are you sentient?'                                        'Sort of.']   \n",
              "3  ['Are you sentient?'   \"By the strictest dictionary definition of th...   \n",
              "4  ['Are you sentient?'   \"Even though I'm a construct I do have a subj...   \n",
              "\n",
              "  category  \n",
              "0       AI  \n",
              "1       AI  \n",
              "2       AI  \n",
              "3       AI  \n",
              "4       AI  "
            ]
          },
          "execution_count": 9,
          "metadata": {},
          "output_type": "execute_result"
        }
      ],
      "source": [
        "data.head()"
      ]
    },
    {
      "cell_type": "code",
      "execution_count": null,
      "metadata": {
        "id": "_FX5Dcv_uVtu",
        "outputId": "a813c5ca-960d-411a-df6d-8912260f8be9"
      },
      "outputs": [
        {
          "data": {
            "text/plain": [
              "<matplotlib.axes._subplots.AxesSubplot at 0x2cb46c8b668>"
            ]
          },
          "execution_count": 11,
          "metadata": {},
          "output_type": "execute_result"
        },
        {
          "data": {
            "image/png": "[encoded data removed]",
            "text/plain": [
              "<Figure size 432x288 with 1 Axes>"
            ]
          },
          "metadata": {
            "image/png": {
              "height": 305,
              "width": 412
            }
          },
          "output_type": "display_data"
        }
      ],
      "source": [
        "data[\"category\"].value_counts().plot.bar()"
      ]
    },
    {
      "cell_type": "code",
      "execution_count": null,
      "metadata": {
        "id": "v3mjDuKyuVtu"
      },
      "outputs": [],
      "source": [
        "data.to_csv(\"dataset_not_preprocessed.csv\")"
      ]
    },
    {
      "cell_type": "code",
      "execution_count": null,
      "metadata": {
        "id": "q9u8ZAxYuVtu",
        "outputId": "d20797a9-42b7-40ab-a2ad-41fa282a4b99"
      },
      "outputs": [
        {
          "data": {
            "text/html": [
              "<div>\n",
              "<style scoped>\n",
              "    .dataframe tbody tr th:only-of-type {\n",
              "        vertical-align: middle;\n",
              "    }\n",
              "\n",
              "    .dataframe tbody tr th {\n",
              "        vertical-align: top;\n",
              "    }\n",
              "\n",
              "    .dataframe thead th {\n",
              "        text-align: right;\n",
              "    }\n",
              "</style>\n",
              "<table border=\"1\" class=\"dataframe\">\n",
              "  <thead>\n",
              "    <tr style=\"text-align: right;\">\n",
              "      <th></th>\n",
              "      <th>question</th>\n",
              "      <th>answer</th>\n",
              "      <th>category</th>\n",
              "    </tr>\n",
              "  </thead>\n",
              "  <tbody>\n",
              "    <tr>\n",
              "      <th>0</th>\n",
              "      <td>['What is AI?'</td>\n",
              "      <td>'Artificial Intelligence is the branch of eng...</td>\n",
              "      <td>AI</td>\n",
              "    </tr>\n",
              "    <tr>\n",
              "      <th>1</th>\n",
              "      <td>['What is AI?'</td>\n",
              "      <td>'AI is the field of science which concerns it...</td>\n",
              "      <td>AI</td>\n",
              "    </tr>\n",
              "    <tr>\n",
              "      <th>2</th>\n",
              "      <td>['Are you sentient?'</td>\n",
              "      <td>'Sort of.']</td>\n",
              "      <td>AI</td>\n",
              "    </tr>\n",
              "    <tr>\n",
              "      <th>3</th>\n",
              "      <td>['Are you sentient?'</td>\n",
              "      <td>\"By the strictest dictionary definition of th...</td>\n",
              "      <td>AI</td>\n",
              "    </tr>\n",
              "    <tr>\n",
              "      <th>4</th>\n",
              "      <td>['Are you sentient?'</td>\n",
              "      <td>\"Even though I'm a construct I do have a subj...</td>\n",
              "      <td>AI</td>\n",
              "    </tr>\n",
              "  </tbody>\n",
              "</table>\n",
              "</div>"
            ],
            "text/plain": [
              "               question                                             answer  \\\n",
              "0        ['What is AI?'   'Artificial Intelligence is the branch of eng...   \n",
              "1        ['What is AI?'   'AI is the field of science which concerns it...   \n",
              "2  ['Are you sentient?'                                        'Sort of.']   \n",
              "3  ['Are you sentient?'   \"By the strictest dictionary definition of th...   \n",
              "4  ['Are you sentient?'   \"Even though I'm a construct I do have a subj...   \n",
              "\n",
              "  category  \n",
              "0       AI  \n",
              "1       AI  \n",
              "2       AI  \n",
              "3       AI  \n",
              "4       AI  "
            ]
          },
          "execution_count": 13,
          "metadata": {},
          "output_type": "execute_result"
        }
      ],
      "source": [
        "data.head()"
      ]
    },
    {
      "cell_type": "code",
      "execution_count": null,
      "metadata": {
        "id": "3vSn-Ea8uVtv"
      },
      "outputs": [],
      "source": []
    },
    {
      "cell_type": "code",
      "execution_count": null,
      "metadata": {
        "id": "3uD1dxICuVtv"
      },
      "outputs": [],
      "source": [
        "preprocessed_text = []\n",
        "for sent in data[\"question\"]:\n",
        "    sentence=[]\n",
        "    for word in sent.split():\n",
        "        word=word.lower()\n",
        "        word = (\"\".join(x for x in word if x.isalnum()))\n",
        "        sentence.append(word)\n",
        "\n",
        "    preprocessed_text.append(\" \".join(str(x) for x in sentence))"
      ]
    },
    {
      "cell_type": "code",
      "execution_count": null,
      "metadata": {
        "id": "KEm3VlPFuVtv"
      },
      "outputs": [],
      "source": [
        "data[\"question\"] = preprocessed_text"
      ]
    },
    {
      "cell_type": "code",
      "execution_count": null,
      "metadata": {
        "id": "p_vH0ax0uVtv"
      },
      "outputs": [],
      "source": [
        "preprocessed_text = []\n",
        "for sent in data[\"answer\"]:\n",
        "    sentence=[]\n",
        "    for word in sent.split():\n",
        "        word=word.lower()\n",
        "        word = (\"\".join(x for x in word if x.isalnum()))\n",
        "        sentence.append(word)\n",
        "\n",
        "    preprocessed_text.append(\" \".join(str(x) for x in sentence))"
      ]
    },
    {
      "cell_type": "code",
      "execution_count": null,
      "metadata": {
        "id": "EnYcdMHyuVtv"
      },
      "outputs": [],
      "source": [
        "data[\"answer\"] = preprocessed_text"
      ]
    },
    {
      "cell_type": "code",
      "execution_count": null,
      "metadata": {
        "id": "VFHXb3FGuVtv",
        "outputId": "d8de2691-4c37-4c1c-ed2b-33b50d20cf1a"
      },
      "outputs": [
        {
          "data": {
            "text/html": [
              "<div>\n",
              "<style scoped>\n",
              "    .dataframe tbody tr th:only-of-type {\n",
              "        vertical-align: middle;\n",
              "    }\n",
              "\n",
              "    .dataframe tbody tr th {\n",
              "        vertical-align: top;\n",
              "    }\n",
              "\n",
              "    .dataframe thead th {\n",
              "        text-align: right;\n",
              "    }\n",
              "</style>\n",
              "<table border=\"1\" class=\"dataframe\">\n",
              "  <thead>\n",
              "    <tr style=\"text-align: right;\">\n",
              "      <th></th>\n",
              "      <th>question</th>\n",
              "      <th>answer</th>\n",
              "      <th>category</th>\n",
              "    </tr>\n",
              "  </thead>\n",
              "  <tbody>\n",
              "    <tr>\n",
              "      <th>0</th>\n",
              "      <td>what is ai</td>\n",
              "      <td>artificial intelligence is the branch of engin...</td>\n",
              "      <td>AI</td>\n",
              "    </tr>\n",
              "    <tr>\n",
              "      <th>1</th>\n",
              "      <td>what is ai</td>\n",
              "      <td>ai is the field of science which concerns itse...</td>\n",
              "      <td>AI</td>\n",
              "    </tr>\n",
              "    <tr>\n",
              "      <th>2</th>\n",
              "      <td>are you sentient</td>\n",
              "      <td>sort of</td>\n",
              "      <td>AI</td>\n",
              "    </tr>\n",
              "    <tr>\n",
              "      <th>3</th>\n",
              "      <td>are you sentient</td>\n",
              "      <td>by the strictest dictionary definition of the ...</td>\n",
              "      <td>AI</td>\n",
              "    </tr>\n",
              "    <tr>\n",
              "      <th>4</th>\n",
              "      <td>are you sentient</td>\n",
              "      <td>even though im a construct i do have a subject...</td>\n",
              "      <td>AI</td>\n",
              "    </tr>\n",
              "  </tbody>\n",
              "</table>\n",
              "</div>"
            ],
            "text/plain": [
              "           question                                             answer  \\\n",
              "0        what is ai  artificial intelligence is the branch of engin...   \n",
              "1        what is ai  ai is the field of science which concerns itse...   \n",
              "2  are you sentient                                            sort of   \n",
              "3  are you sentient  by the strictest dictionary definition of the ...   \n",
              "4  are you sentient  even though im a construct i do have a subject...   \n",
              "\n",
              "  category  \n",
              "0       AI  \n",
              "1       AI  \n",
              "2       AI  \n",
              "3       AI  \n",
              "4       AI  "
            ]
          },
          "execution_count": 18,
          "metadata": {},
          "output_type": "execute_result"
        }
      ],
      "source": [
        "data.head()"
      ]
    },
    {
      "cell_type": "code",
      "execution_count": null,
      "metadata": {
        "id": "WHq9DRnduVtw"
      },
      "outputs": [],
      "source": [
        "data.to_csv(\"dataset_preprocessed.csv\")"
      ]
    },
    {
      "cell_type": "markdown",
      "metadata": {
        "id": "P1iongJ_uVtw"
      },
      "source": [
        "<B> Preparing word2vec using own text corpus</B>"
      ]
    },
    {
      "cell_type": "code",
      "execution_count": null,
      "metadata": {
        "id": "Z07QHBkUuVtw"
      },
      "outputs": [],
      "source": [
        "data=pd.read_csv(\"dataset_preprocessed.csv\")"
      ]
    },
    {
      "cell_type": "code",
      "execution_count": null,
      "metadata": {
        "id": "z0GAdlzQuVtx",
        "outputId": "37eadf82-4cc6-40c4-8e9b-e6aa69f0286c"
      },
      "outputs": [
        {
          "data": {
            "text/plain": [
              "'what is ai artificial intelligence is the branch of engineering and science devoted to constructing machines that think'"
            ]
          },
          "execution_count": 20,
          "metadata": {},
          "output_type": "execute_result"
        }
      ],
      "source": [
        "sent = data[\"question\"][0]+\" \"+data[\"answer\"][0]\n",
        "sent"
      ]
    },
    {
      "cell_type": "code",
      "execution_count": null,
      "metadata": {
        "id": "is3rDMqKuVtx"
      },
      "outputs": [],
      "source": [
        "list_of_sent=[]\n",
        "\n",
        "for i in range(len(data[\"question\"])):\n",
        "    sent = data[\"question\"][i]+\" \"+data[\"answer\"][i]\n",
        "    list_of_sent.append(sent.split())"
      ]
    },
    {
      "cell_type": "code",
      "execution_count": null,
      "metadata": {
        "id": "T1BN51nvuVtx",
        "outputId": "b9bfb5a4-69fe-4f3f-a4bb-c6dc6ce68a8e"
      },
      "outputs": [
        {
          "data": {
            "text/plain": [
              "584"
            ]
          },
          "execution_count": 22,
          "metadata": {},
          "output_type": "execute_result"
        }
      ],
      "source": [
        "len(list_of_sent)"
      ]
    },
    {
      "cell_type": "code",
      "execution_count": null,
      "metadata": {
        "id": "z_BJZFQduVtx"
      },
      "outputs": [],
      "source": [
        "import gensim\n",
        "model_word2vec = gensim.models.Word2Vec(list_of_sent,min_count=5,size=300, workers=4)"
      ]
    },
    {
      "cell_type": "markdown",
      "metadata": {
        "id": "V6Ro0wzruVty"
      },
      "source": [
        "<B> Preparing word2vec using own Google news data </B>"
      ]
    },
    {
      "cell_type": "code",
      "execution_count": null,
      "metadata": {
        "id": "mqln_8j9uVty"
      },
      "outputs": [],
      "source": [
        "pretrained_embeddings_path = \"GoogleNews-vectors-negative300.bin\"\n",
        "\n",
        "model_word2vec = gensim.models.KeyedVectors.load_word2vec_format(pretrained_embeddings_path, binary=True)"
      ]
    },
    {
      "cell_type": "code",
      "execution_count": null,
      "metadata": {
        "id": "X3wT9DF4uVty"
      },
      "outputs": [],
      "source": [
        "question_vector=[]\n",
        "for sent in data[\"question\"]:\n",
        "    sent_vec = [model_word2vec[w] for w in sent if w in model_word2vec.wv.vocab]\n",
        "    question_vector.append(sent_vec)"
      ]
    },
    {
      "cell_type": "code",
      "execution_count": null,
      "metadata": {
        "id": "nKGHMc5cuVty"
      },
      "outputs": [],
      "source": [
        "answer_vector=[]\n",
        "for sent in data[\"answer\"]:\n",
        "    sent_vec = [model_word2vec[w] for w in sent if w in model_word2vec.wv.vocab]\n",
        "    answer_vector.append(sent_vec)"
      ]
    },
    {
      "cell_type": "code",
      "execution_count": null,
      "metadata": {
        "id": "m-Kym7DGuVty",
        "outputId": "7d689397-5fad-4ee0-ac64-57eef3c6aa5e"
      },
      "outputs": [
        {
          "data": {
            "text/plain": [
              "'ai is the field of science which concerns itself with building hardware and software that replicates the functions of the human mind'"
            ]
          },
          "execution_count": 27,
          "metadata": {},
          "output_type": "execute_result"
        }
      ],
      "source": [
        "data[\"answer\"][1]"
      ]
    },
    {
      "cell_type": "code",
      "execution_count": null,
      "metadata": {
        "id": "-keTrucpuVtz"
      },
      "outputs": [],
      "source": [
        "sentend=np.ones((300,),dtype=np.float32)"
      ]
    },
    {
      "cell_type": "code",
      "execution_count": null,
      "metadata": {
        "id": "3YgPsSsPuVtz"
      },
      "outputs": [],
      "source": [
        "for sent in question_vector:\n",
        "    sent[19:]=[]\n",
        "    sent.append(sentend)"
      ]
    },
    {
      "cell_type": "code",
      "execution_count": null,
      "metadata": {
        "id": "j6kus99yuVtz"
      },
      "outputs": [],
      "source": [
        "for sent in question_vector:\n",
        "    if(len(sent)<20):\n",
        "        for i in range(20-len(sent)):\n",
        "            sent.append(sentend)"
      ]
    },
    {
      "cell_type": "code",
      "execution_count": null,
      "metadata": {
        "id": "nf-ZxPV8uVtz"
      },
      "outputs": [],
      "source": [
        "for sent in answer_vector:\n",
        "    sent[19:]=[]\n",
        "    sent.append(sentend)"
      ]
    },
    {
      "cell_type": "code",
      "execution_count": null,
      "metadata": {
        "id": "S3gWvPNjuVtz"
      },
      "outputs": [],
      "source": [
        "for sent in answer_vector:\n",
        "    if(len(sent)<20):\n",
        "        for i in range(20-len(sent)):\n",
        "            sent.append(sentend)"
      ]
    },
    {
      "cell_type": "code",
      "execution_count": null,
      "metadata": {
        "id": "I1DImm64uVtz"
      },
      "outputs": [],
      "source": []
    },
    {
      "cell_type": "code",
      "execution_count": null,
      "metadata": {
        "id": "iBeRu0TTuVtz"
      },
      "outputs": [],
      "source": [
        "import pickle\n",
        "with open('conversation.pickle','wb') as f:\n",
        "    pickle.dump([question_vector,answer_vector],f)"
      ]
    },
    {
      "cell_type": "code",
      "execution_count": null,
      "metadata": {
        "id": "3b8HgNuWuVt0"
      },
      "outputs": [],
      "source": []
    },
    {
      "cell_type": "code",
      "execution_count": null,
      "metadata": {
        "id": "9Jn6TzL4uVt0"
      },
      "outputs": [],
      "source": [
        "import os\n",
        "import pickle\n",
        "import numpy as np\n",
        "from keras.models import Sequential\n",
        "import gensim\n",
        "from keras.layers.recurrent import LSTM,SimpleRNN\n",
        "from sklearn.model_selection import train_test_split\n",
        "from keras.layers import Dense, Dropout, Activation\n",
        "from keras.layers.normalization import BatchNormalization"
      ]
    },
    {
      "cell_type": "code",
      "execution_count": null,
      "metadata": {
        "id": "yRzuzMy0uVt0"
      },
      "outputs": [],
      "source": []
    },
    {
      "cell_type": "code",
      "execution_count": null,
      "metadata": {
        "id": "5KB6V2G1uVt0"
      },
      "outputs": [],
      "source": [
        "with open('conversation.pickle','rb') as f:\n",
        "    question_vector , answer_vector = pickle.load(f)"
      ]
    },
    {
      "cell_type": "code",
      "execution_count": null,
      "metadata": {
        "id": "tVNIxIsQuVt0"
      },
      "outputs": [],
      "source": []
    },
    {
      "cell_type": "code",
      "execution_count": null,
      "metadata": {
        "id": "B1eGRfhauVt0"
      },
      "outputs": [],
      "source": [
        "vec_x=np.array(question_vector,dtype=np.float64)\n",
        "vec_y=np.array(answer_vector,dtype=np.float64)"
      ]
    },
    {
      "cell_type": "code",
      "execution_count": null,
      "metadata": {
        "id": "bldvRK0guVt1",
        "outputId": "27ca8282-4c61-4a64-8f40-aef7bda5d85b"
      },
      "outputs": [
        {
          "data": {
            "text/plain": [
              "3504000"
            ]
          },
          "execution_count": 42,
          "metadata": {},
          "output_type": "execute_result"
        }
      ],
      "source": [
        "vec_x.size"
      ]
    },
    {
      "cell_type": "code",
      "execution_count": null,
      "metadata": {
        "id": "gUS0Wkd_uVt1"
      },
      "outputs": [],
      "source": [
        "x_train,x_test, y_train,y_test = train_test_split(vec_x, vec_y, test_size=0.2, random_state=1)"
      ]
    },
    {
      "cell_type": "code",
      "execution_count": null,
      "metadata": {
        "id": "WfbwNYNRuVt1",
        "outputId": "67adb811-4e4c-49de-e9f4-64f23b4bbcdd"
      },
      "outputs": [
        {
          "name": "stdout",
          "output_type": "stream",
          "text": [
            "(467, 20, 300) (467, 20, 300) (117, 20, 300) (117, 20, 300)\n"
          ]
        }
      ],
      "source": [
        "print(x_train.shape, y_train.shape, x_test.shape, y_test.shape)"
      ]
    },
    {
      "cell_type": "code",
      "execution_count": null,
      "metadata": {
        "id": "4GH8p0DQuVt1"
      },
      "outputs": [],
      "source": []
    },
    {
      "cell_type": "code",
      "execution_count": null,
      "metadata": {
        "id": "bgDeye42uVt1",
        "outputId": "071cbfb3-142c-41fa-8cb6-e7d08abb335f"
      },
      "outputs": [
        {
          "name": "stdout",
          "output_type": "stream",
          "text": [
            "_________________________________________________________________\n",
            "Layer (type)                 Output Shape              Param #   \n",
            "=================================================================\n",
            "lstm_2 (LSTM)                (None, 20, 300)           721200    \n",
            "_________________________________________________________________\n",
            "dropout_1 (Dropout)          (None, 20, 300)           0         \n",
            "_________________________________________________________________\n",
            "lstm_3 (LSTM)                (None, 20, 300)           721200    \n",
            "_________________________________________________________________\n",
            "dropout_2 (Dropout)          (None, 20, 300)           0         \n",
            "_________________________________________________________________\n",
            "lstm_4 (LSTM)                (None, 20, 300)           721200    \n",
            "_________________________________________________________________\n",
            "dropout_3 (Dropout)          (None, 20, 300)           0         \n",
            "_________________________________________________________________\n",
            "lstm_5 (LSTM)                (None, 20, 300)           721200    \n",
            "_________________________________________________________________\n",
            "dropout_4 (Dropout)          (None, 20, 300)           0         \n",
            "=================================================================\n",
            "Total params: 2,884,800\n",
            "Trainable params: 2,884,800\n",
            "Non-trainable params: 0\n",
            "_________________________________________________________________\n"
          ]
        }
      ],
      "source": [
        "model=Sequential()\n",
        "\n",
        "model.add(LSTM(output_dim=300,input_shape=x_train.shape[1:],return_sequences=True, init='glorot_normal', inner_init='glorot_normal', activation='relu'))\n",
        "model.add(Dropout(0.5))\n",
        "\n",
        "model.add(LSTM(output_dim=300,input_shape=x_train.shape[1:],return_sequences=True, init='glorot_normal', inner_init='glorot_normal', activation='relu'))\n",
        "model.add(Dropout(0.5))\n",
        "\n",
        "model.add(LSTM(output_dim=300,input_shape=x_train.shape[1:],return_sequences=True, init='glorot_normal', inner_init='glorot_normal', activation='relu'))\n",
        "model.add(Dropout(0.5))\n",
        "\n",
        "model.add(LSTM(output_dim=300,input_shape=x_train.shape[1:],return_sequences=True, init='glorot_normal', inner_init='glorot_normal', activation='relu'))\n",
        "model.add(Dropout(0.5))\n",
        "\n",
        "model.compile(loss='cosine_proximity', optimizer='adam', metrics=['accuracy'])\n",
        "\n",
        "model.summary()"
      ]
    },
    {
      "cell_type": "code",
      "execution_count": null,
      "metadata": {
        "id": "FLYjIJcCuVt2",
        "outputId": "d796e775-d443-4c9e-e2da-9d04962d1237"
      },
      "outputs": [
        {
          "name": "stdout",
          "output_type": "stream",
          "text": [
            "Train on 467 samples, validate on 117 samples\n",
            "Epoch 1/200\n",
            "467/467 [==============================] - 10s 21ms/step - loss: -0.3021 - acc: 0.0407 - val_loss: -0.4905 - val_acc: 0.0573\n",
            "Epoch 2/200\n",
            "467/467 [==============================] - 6s 13ms/step - loss: -0.3459 - acc: 0.0582 - val_loss: -0.4968 - val_acc: 0.0483\n",
            "Epoch 3/200\n",
            "467/467 [==============================] - 7s 14ms/step - loss: -0.3485 - acc: 0.0534 - val_loss: -0.4992 - val_acc: 0.0654\n",
            "Epoch 4/200\n",
            "467/467 [==============================] - 7s 14ms/step - loss: -0.3492 - acc: 0.0572 - val_loss: -0.4991 - val_acc: 0.0611\n",
            "Epoch 5/200\n",
            "467/467 [==============================] - 6s 13ms/step - loss: -0.3507 - acc: 0.0613 - val_loss: -0.5015 - val_acc: 0.0620\n",
            "Epoch 6/200\n",
            "467/467 [==============================] - 6s 14ms/step - loss: -0.3518 - acc: 0.0617 - val_loss: -0.5012 - val_acc: 0.0637\n",
            "Epoch 7/200\n",
            "467/467 [==============================] - 6s 14ms/step - loss: -0.3521 - acc: 0.0605 - val_loss: -0.5008 - val_acc: 0.0628\n",
            "Epoch 8/200\n",
            "467/467 [==============================] - 7s 14ms/step - loss: -0.3518 - acc: 0.0589 - val_loss: -0.5008 - val_acc: 0.0624\n",
            "Epoch 9/200\n",
            "467/467 [==============================] - 7s 14ms/step - loss: -0.3513 - acc: 0.0599 - val_loss: -0.4966 - val_acc: 0.0697\n",
            "Epoch 10/200\n",
            "467/467 [==============================] - 7s 14ms/step - loss: -0.3514 - acc: 0.0601 - val_loss: -0.5006 - val_acc: 0.0658\n",
            "Epoch 11/200\n",
            "467/467 [==============================] - 6s 14ms/step - loss: -0.3524 - acc: 0.0601 - val_loss: -0.5030 - val_acc: 0.0662\n",
            "Epoch 12/200\n",
            "467/467 [==============================] - 7s 14ms/step - loss: -0.3530 - acc: 0.0592 - val_loss: -0.5028 - val_acc: 0.0632\n",
            "Epoch 13/200\n",
            "467/467 [==============================] - 6s 14ms/step - loss: -0.3529 - acc: 0.0623 - val_loss: -0.5003 - val_acc: 0.0530\n",
            "Epoch 14/200\n",
            "467/467 [==============================] - 7s 14ms/step - loss: -0.3536 - acc: 0.0595 - val_loss: -0.5017 - val_acc: 0.0594\n",
            "Epoch 15/200\n",
            "467/467 [==============================] - 7s 14ms/step - loss: -0.3540 - acc: 0.0596 - val_loss: -0.5035 - val_acc: 0.0628\n",
            "Epoch 16/200\n",
            "467/467 [==============================] - 7s 14ms/step - loss: -0.3540 - acc: 0.0577 - val_loss: -0.5019 - val_acc: 0.0598\n",
            "Epoch 17/200\n",
            "467/467 [==============================] - 7s 14ms/step - loss: -0.3529 - acc: 0.0646 - val_loss: -0.5034 - val_acc: 0.0637\n",
            "Epoch 18/200\n",
            "467/467 [==============================] - 7s 14ms/step - loss: -0.3541 - acc: 0.0604 - val_loss: -0.5037 - val_acc: 0.0577\n",
            "Epoch 19/200\n",
            "467/467 [==============================] - 7s 14ms/step - loss: -0.3538 - acc: 0.0587 - val_loss: -0.5027 - val_acc: 0.0632\n",
            "Epoch 20/200\n",
            "467/467 [==============================] - 7s 14ms/step - loss: -0.3549 - acc: 0.0655 - val_loss: -0.5021 - val_acc: 0.0654\n",
            "Epoch 21/200\n",
            "467/467 [==============================] - 7s 14ms/step - loss: -0.3545 - acc: 0.0589 - val_loss: -0.5045 - val_acc: 0.0641\n",
            "Epoch 22/200\n",
            "467/467 [==============================] - 7s 14ms/step - loss: -0.3551 - acc: 0.0600 - val_loss: -0.5050 - val_acc: 0.0662\n",
            "Epoch 23/200\n",
            "467/467 [==============================] - 7s 14ms/step - loss: -0.3567 - acc: 0.0576 - val_loss: -0.5046 - val_acc: 0.0637\n",
            "Epoch 24/200\n",
            "467/467 [==============================] - 7s 15ms/step - loss: -0.3564 - acc: 0.0591 - val_loss: -0.4977 - val_acc: 0.0573\n",
            "Epoch 25/200\n",
            "467/467 [==============================] - 7s 14ms/step - loss: -0.3561 - acc: 0.0610 - val_loss: -0.5007 - val_acc: 0.0628\n",
            "Epoch 26/200\n",
            "467/467 [==============================] - 7s 14ms/step - loss: -0.3560 - acc: 0.0610 - val_loss: -0.5054 - val_acc: 0.0662\n",
            "Epoch 27/200\n",
            "467/467 [==============================] - 7s 14ms/step - loss: -0.3563 - acc: 0.0616 - val_loss: -0.5042 - val_acc: 0.0632\n",
            "Epoch 28/200\n",
            "467/467 [==============================] - 7s 15ms/step - loss: -0.3570 - acc: 0.0616 - val_loss: -0.5052 - val_acc: 0.0688\n",
            "Epoch 29/200\n",
            "467/467 [==============================] - 8s 16ms/step - loss: -0.3587 - acc: 0.0649 - val_loss: -0.5062 - val_acc: 0.0650\n",
            "Epoch 30/200\n",
            "467/467 [==============================] - 7s 16ms/step - loss: -0.3577 - acc: 0.0586 - val_loss: -0.5002 - val_acc: 0.0594\n",
            "Epoch 31/200\n",
            "467/467 [==============================] - 7s 16ms/step - loss: -0.3586 - acc: 0.0608 - val_loss: -0.5063 - val_acc: 0.0658\n",
            "Epoch 32/200\n",
            "467/467 [==============================] - 7s 16ms/step - loss: -0.3589 - acc: 0.0604 - val_loss: -0.5071 - val_acc: 0.0637\n",
            "Epoch 33/200\n",
            "467/467 [==============================] - 7s 15ms/step - loss: -0.3603 - acc: 0.0604 - val_loss: -0.5072 - val_acc: 0.0667\n",
            "Epoch 34/200\n",
            "467/467 [==============================] - 7s 16ms/step - loss: -0.3598 - acc: 0.0613 - val_loss: -0.5006 - val_acc: 0.0628\n",
            "Epoch 35/200\n",
            "467/467 [==============================] - 7s 14ms/step - loss: -0.3616 - acc: 0.0616 - val_loss: -0.5071 - val_acc: 0.0684\n",
            "Epoch 36/200\n",
            "467/467 [==============================] - 7s 16ms/step - loss: -0.3617 - acc: 0.0663 - val_loss: -0.5041 - val_acc: 0.0658\n",
            "Epoch 37/200\n",
            "467/467 [==============================] - 7s 16ms/step - loss: -0.3626 - acc: 0.0624 - val_loss: -0.5081 - val_acc: 0.0564\n",
            "Epoch 38/200\n",
            "467/467 [==============================] - 8s 16ms/step - loss: -0.3626 - acc: 0.0617 - val_loss: -0.5049 - val_acc: 0.0556\n",
            "Epoch 39/200\n",
            "467/467 [==============================] - 7s 16ms/step - loss: -0.3643 - acc: 0.0630 - val_loss: -0.5076 - val_acc: 0.0667\n",
            "Epoch 40/200\n",
            "467/467 [==============================] - 7s 15ms/step - loss: -0.3628 - acc: 0.0641 - val_loss: -0.5076 - val_acc: 0.0637\n",
            "Epoch 41/200\n",
            "467/467 [==============================] - 7s 15ms/step - loss: -0.3635 - acc: 0.0618 - val_loss: -0.5031 - val_acc: 0.0650\n",
            "Epoch 42/200\n",
            "467/467 [==============================] - 7s 16ms/step - loss: -0.3646 - acc: 0.0618 - val_loss: -0.5076 - val_acc: 0.0598\n",
            "Epoch 43/200\n",
            "467/467 [==============================] - 7s 16ms/step - loss: -0.3657 - acc: 0.0627 - val_loss: -0.5067 - val_acc: 0.0671\n",
            "Epoch 44/200\n",
            "467/467 [==============================] - 7s 16ms/step - loss: -0.3670 - acc: 0.0633 - val_loss: -0.5061 - val_acc: 0.0628\n",
            "Epoch 45/200\n",
            "467/467 [==============================] - 7s 16ms/step - loss: -0.3666 - acc: 0.0625 - val_loss: -0.5064 - val_acc: 0.0603\n",
            "Epoch 46/200\n",
            "467/467 [==============================] - 7s 16ms/step - loss: -0.3668 - acc: 0.0627 - val_loss: -0.5091 - val_acc: 0.0675\n",
            "Epoch 47/200\n",
            "467/467 [==============================] - 7s 15ms/step - loss: -0.3698 - acc: 0.0632 - val_loss: -0.5030 - val_acc: 0.0603\n",
            "Epoch 48/200\n",
            "467/467 [==============================] - 7s 16ms/step - loss: -0.3690 - acc: 0.0646 - val_loss: -0.5057 - val_acc: 0.0654\n",
            "Epoch 49/200\n",
            "467/467 [==============================] - 7s 16ms/step - loss: -0.3696 - acc: 0.0657 - val_loss: -0.5109 - val_acc: 0.0637\n",
            "Epoch 50/200\n",
            "467/467 [==============================] - 7s 16ms/step - loss: -0.3700 - acc: 0.0630 - val_loss: -0.5100 - val_acc: 0.0671\n",
            "Epoch 51/200\n",
            "467/467 [==============================] - 7s 15ms/step - loss: -0.3693 - acc: 0.0584 - val_loss: -0.5092 - val_acc: 0.0620\n",
            "Epoch 52/200\n",
            "467/467 [==============================] - 7s 16ms/step - loss: -0.3707 - acc: 0.0697 - val_loss: -0.5079 - val_acc: 0.0671\n",
            "Epoch 53/200\n",
            "467/467 [==============================] - 7s 15ms/step - loss: -0.3718 - acc: 0.0631 - val_loss: -0.5066 - val_acc: 0.0615\n",
            "Epoch 54/200\n",
            "467/467 [==============================] - 7s 15ms/step - loss: -0.3727 - acc: 0.0623 - val_loss: -0.5079 - val_acc: 0.0658\n",
            "Epoch 55/200\n",
            "467/467 [==============================] - 7s 15ms/step - loss: -0.3729 - acc: 0.0633 - val_loss: -0.5106 - val_acc: 0.0662\n",
            "Epoch 56/200\n",
            "467/467 [==============================] - 7s 15ms/step - loss: -0.3748 - acc: 0.0631 - val_loss: -0.5089 - val_acc: 0.0697\n",
            "Epoch 57/200\n",
            "467/467 [==============================] - 7s 15ms/step - loss: -0.3732 - acc: 0.0632 - val_loss: -0.5086 - val_acc: 0.0739\n",
            "Epoch 58/200\n",
            "467/467 [==============================] - 7s 15ms/step - loss: -0.3736 - acc: 0.0668 - val_loss: -0.5110 - val_acc: 0.0650\n",
            "Epoch 59/200\n",
            "467/467 [==============================] - 7s 16ms/step - loss: -0.3750 - acc: 0.0649 - val_loss: -0.5053 - val_acc: 0.0667\n",
            "Epoch 60/200\n"
          ]
        },
        {
          "name": "stdout",
          "output_type": "stream",
          "text": [
            "467/467 [==============================] - 7s 15ms/step - loss: -0.3741 - acc: 0.0621 - val_loss: -0.5079 - val_acc: 0.0688\n",
            "Epoch 61/200\n",
            "467/467 [==============================] - 7s 16ms/step - loss: -0.3760 - acc: 0.0745 - val_loss: -0.5068 - val_acc: 0.0714\n",
            "Epoch 62/200\n",
            "467/467 [==============================] - 7s 15ms/step - loss: -0.3761 - acc: 0.0686 - val_loss: -0.5101 - val_acc: 0.0688\n",
            "Epoch 63/200\n",
            "467/467 [==============================] - 7s 15ms/step - loss: -0.3773 - acc: 0.0635 - val_loss: -0.5073 - val_acc: 0.0769\n",
            "Epoch 64/200\n",
            "467/467 [==============================] - 7s 15ms/step - loss: -0.3774 - acc: 0.0645 - val_loss: -0.5137 - val_acc: 0.0692\n",
            "Epoch 65/200\n",
            "467/467 [==============================] - 7s 15ms/step - loss: -0.3767 - acc: 0.0690 - val_loss: -0.5098 - val_acc: 0.0714\n",
            "Epoch 66/200\n",
            "467/467 [==============================] - 8s 17ms/step - loss: -0.3762 - acc: 0.0623 - val_loss: -0.5128 - val_acc: 0.0667\n",
            "Epoch 67/200\n",
            "467/467 [==============================] - 7s 16ms/step - loss: -0.3749 - acc: 0.0647 - val_loss: -0.5117 - val_acc: 0.0726\n",
            "Epoch 68/200\n",
            "467/467 [==============================] - 7s 16ms/step - loss: -0.3776 - acc: 0.0690 - val_loss: -0.5088 - val_acc: 0.0697\n",
            "Epoch 69/200\n",
            "467/467 [==============================] - 7s 15ms/step - loss: -0.3783 - acc: 0.0623 - val_loss: -0.5081 - val_acc: 0.0739\n",
            "Epoch 70/200\n",
            "467/467 [==============================] - 7s 16ms/step - loss: -0.3784 - acc: 0.0643 - val_loss: -0.5053 - val_acc: 0.0744\n",
            "Epoch 71/200\n",
            "467/467 [==============================] - 7s 15ms/step - loss: -0.3805 - acc: 0.0652 - val_loss: -0.5056 - val_acc: 0.0709\n",
            "Epoch 72/200\n",
            "467/467 [==============================] - 7s 16ms/step - loss: -0.3798 - acc: 0.0643 - val_loss: -0.5092 - val_acc: 0.0709\n",
            "Epoch 73/200\n",
            "467/467 [==============================] - 7s 15ms/step - loss: -0.3792 - acc: 0.0706 - val_loss: -0.5096 - val_acc: 0.0739\n",
            "Epoch 74/200\n",
            "467/467 [==============================] - 7s 15ms/step - loss: -0.3806 - acc: 0.0652 - val_loss: -0.5106 - val_acc: 0.0697\n",
            "Epoch 75/200\n",
            "467/467 [==============================] - 7s 15ms/step - loss: -0.3800 - acc: 0.0618 - val_loss: -0.5111 - val_acc: 0.0718\n",
            "Epoch 76/200\n",
            "467/467 [==============================] - 7s 15ms/step - loss: -0.3816 - acc: 0.0712 - val_loss: -0.5116 - val_acc: 0.0675\n",
            "Epoch 77/200\n",
            "467/467 [==============================] - 7s 15ms/step - loss: -0.3814 - acc: 0.0713 - val_loss: -0.5095 - val_acc: 0.0705\n",
            "Epoch 78/200\n",
            "467/467 [==============================] - 7s 15ms/step - loss: -0.3822 - acc: 0.0694 - val_loss: -0.5104 - val_acc: 0.0697\n",
            "Epoch 79/200\n",
            "467/467 [==============================] - 8s 16ms/step - loss: -0.3837 - acc: 0.0651 - val_loss: -0.5097 - val_acc: 0.0774\n",
            "Epoch 80/200\n",
            "467/467 [==============================] - 7s 15ms/step - loss: -0.3844 - acc: 0.0650 - val_loss: -0.5085 - val_acc: 0.0769\n",
            "Epoch 81/200\n",
            "467/467 [==============================] - 7s 15ms/step - loss: -0.3834 - acc: 0.0679 - val_loss: -0.5075 - val_acc: 0.0722\n",
            "Epoch 82/200\n",
            "467/467 [==============================] - 7s 15ms/step - loss: -0.3837 - acc: 0.0653 - val_loss: -0.5089 - val_acc: 0.0684\n",
            "Epoch 83/200\n",
            "467/467 [==============================] - 7s 15ms/step - loss: -0.3834 - acc: 0.0696 - val_loss: -0.5067 - val_acc: 0.0769\n",
            "Epoch 84/200\n",
            "467/467 [==============================] - 7s 15ms/step - loss: -0.3829 - acc: 0.0697 - val_loss: -0.5080 - val_acc: 0.0705\n",
            "Epoch 85/200\n",
            "467/467 [==============================] - 7s 15ms/step - loss: -0.3836 - acc: 0.0656 - val_loss: -0.5058 - val_acc: 0.0671\n",
            "Epoch 86/200\n",
            "467/467 [==============================] - 7s 15ms/step - loss: -0.3836 - acc: 0.0698 - val_loss: -0.5030 - val_acc: 0.0658\n",
            "Epoch 87/200\n",
            "467/467 [==============================] - 7s 15ms/step - loss: -0.3827 - acc: 0.0692 - val_loss: -0.5090 - val_acc: 0.0756\n",
            "Epoch 88/200\n",
            "467/467 [==============================] - 7s 15ms/step - loss: -0.3841 - acc: 0.0671 - val_loss: -0.5092 - val_acc: 0.0748\n",
            "Epoch 89/200\n",
            "467/467 [==============================] - 7s 15ms/step - loss: -0.3842 - acc: 0.0712 - val_loss: -0.5086 - val_acc: 0.0731\n",
            "Epoch 90/200\n",
            "467/467 [==============================] - 7s 16ms/step - loss: -0.3846 - acc: 0.0696 - val_loss: -0.5076 - val_acc: 0.0786\n",
            "Epoch 91/200\n",
            "467/467 [==============================] - 7s 15ms/step - loss: -0.3861 - acc: 0.0677 - val_loss: -0.5002 - val_acc: 0.0752\n",
            "Epoch 92/200\n",
            "467/467 [==============================] - 7s 16ms/step - loss: -0.3849 - acc: 0.0655 - val_loss: -0.5019 - val_acc: 0.0842\n",
            "Epoch 93/200\n",
            "467/467 [==============================] - 7s 16ms/step - loss: -0.3848 - acc: 0.0721 - val_loss: -0.5104 - val_acc: 0.0769\n",
            "Epoch 94/200\n",
            "467/467 [==============================] - 7s 16ms/step - loss: -0.3860 - acc: 0.0666 - val_loss: -0.5086 - val_acc: 0.0842\n",
            "Epoch 95/200\n",
            "467/467 [==============================] - 7s 16ms/step - loss: -0.3856 - acc: 0.0690 - val_loss: -0.5085 - val_acc: 0.0688\n",
            "Epoch 96/200\n",
            "467/467 [==============================] - 7s 16ms/step - loss: -0.3843 - acc: 0.0673 - val_loss: -0.5079 - val_acc: 0.0761\n",
            "Epoch 97/200\n",
            "467/467 [==============================] - 7s 16ms/step - loss: -0.3840 - acc: 0.0662 - val_loss: -0.5047 - val_acc: 0.0786\n",
            "Epoch 98/200\n",
            "467/467 [==============================] - 7s 16ms/step - loss: -0.3857 - acc: 0.0704 - val_loss: -0.5078 - val_acc: 0.0722\n",
            "Epoch 99/200\n",
            "467/467 [==============================] - 7s 16ms/step - loss: -0.3851 - acc: 0.0711 - val_loss: -0.5098 - val_acc: 0.0803\n",
            "Epoch 100/200\n",
            "467/467 [==============================] - 7s 16ms/step - loss: -0.3868 - acc: 0.0726 - val_loss: -0.5095 - val_acc: 0.0846\n",
            "Epoch 101/200\n",
            "467/467 [==============================] - 7s 16ms/step - loss: -0.3866 - acc: 0.0713 - val_loss: -0.5108 - val_acc: 0.0842\n",
            "Epoch 102/200\n",
            "467/467 [==============================] - 7s 15ms/step - loss: -0.3855 - acc: 0.0754 - val_loss: -0.5084 - val_acc: 0.0705\n",
            "Epoch 103/200\n",
            "467/467 [==============================] - 7s 15ms/step - loss: -0.3854 - acc: 0.0743 - val_loss: -0.5075 - val_acc: 0.0795\n",
            "Epoch 104/200\n",
            "467/467 [==============================] - 7s 16ms/step - loss: -0.3878 - acc: 0.0736 - val_loss: -0.5077 - val_acc: 0.0838\n",
            "Epoch 105/200\n",
            "467/467 [==============================] - 7s 16ms/step - loss: -0.3894 - acc: 0.0729 - val_loss: -0.5078 - val_acc: 0.0859\n",
            "Epoch 106/200\n",
            "467/467 [==============================] - 7s 16ms/step - loss: -0.3890 - acc: 0.0771 - val_loss: -0.5067 - val_acc: 0.0868\n",
            "Epoch 107/200\n",
            "467/467 [==============================] - 7s 16ms/step - loss: -0.3894 - acc: 0.0690 - val_loss: -0.5088 - val_acc: 0.0885\n",
            "Epoch 108/200\n",
            "467/467 [==============================] - 7s 16ms/step - loss: -0.3890 - acc: 0.0718 - val_loss: -0.5071 - val_acc: 0.0744\n",
            "Epoch 109/200\n",
            "467/467 [==============================] - 7s 16ms/step - loss: -0.3851 - acc: 0.0709 - val_loss: -0.5109 - val_acc: 0.0808\n",
            "Epoch 110/200\n",
            "467/467 [==============================] - 8s 17ms/step - loss: -0.3871 - acc: 0.0704 - val_loss: -0.5111 - val_acc: 0.0726\n",
            "Epoch 111/200\n",
            "467/467 [==============================] - 8s 17ms/step - loss: -0.3880 - acc: 0.0761 - val_loss: -0.5046 - val_acc: 0.0752\n",
            "Epoch 112/200\n",
            "467/467 [==============================] - 8s 17ms/step - loss: -0.3886 - acc: 0.0727 - val_loss: -0.5086 - val_acc: 0.0812\n",
            "Epoch 113/200\n",
            "467/467 [==============================] - 7s 16ms/step - loss: -0.3888 - acc: 0.0745 - val_loss: -0.5116 - val_acc: 0.0846\n",
            "Epoch 114/200\n",
            "467/467 [==============================] - 7s 16ms/step - loss: -0.3897 - acc: 0.0737 - val_loss: -0.5092 - val_acc: 0.0919\n",
            "Epoch 115/200\n",
            "467/467 [==============================] - 8s 16ms/step - loss: -0.3901 - acc: 0.0781 - val_loss: -0.5087 - val_acc: 0.0850\n",
            "Epoch 116/200\n",
            "467/467 [==============================] - 7s 15ms/step - loss: -0.3894 - acc: 0.0743 - val_loss: -0.5077 - val_acc: 0.0825\n",
            "Epoch 117/200\n",
            "467/467 [==============================] - 7s 15ms/step - loss: -0.3895 - acc: 0.0746 - val_loss: -0.5080 - val_acc: 0.0803\n",
            "Epoch 118/200\n",
            "467/467 [==============================] - 7s 16ms/step - loss: -0.3910 - acc: 0.0776 - val_loss: -0.5111 - val_acc: 0.0893\n",
            "Epoch 119/200\n",
            "467/467 [==============================] - 7s 16ms/step - loss: -0.3887 - acc: 0.0779 - val_loss: -0.5089 - val_acc: 0.0838\n"
          ]
        },
        {
          "name": "stdout",
          "output_type": "stream",
          "text": [
            "Epoch 120/200\n",
            "467/467 [==============================] - 8s 17ms/step - loss: -0.3900 - acc: 0.0746 - val_loss: -0.5094 - val_acc: 0.0808\n",
            "Epoch 121/200\n",
            "467/467 [==============================] - 7s 16ms/step - loss: -0.3900 - acc: 0.0744 - val_loss: -0.5055 - val_acc: 0.0885\n",
            "Epoch 122/200\n",
            "467/467 [==============================] - 7s 16ms/step - loss: -0.3912 - acc: 0.0723 - val_loss: -0.5088 - val_acc: 0.0855\n",
            "Epoch 123/200\n",
            "467/467 [==============================] - 7s 16ms/step - loss: -0.3911 - acc: 0.0770 - val_loss: -0.5123 - val_acc: 0.0855\n",
            "Epoch 124/200\n",
            "467/467 [==============================] - 7s 16ms/step - loss: -0.3910 - acc: 0.0741 - val_loss: -0.5105 - val_acc: 0.0791\n",
            "Epoch 125/200\n",
            "467/467 [==============================] - 7s 16ms/step - loss: -0.3918 - acc: 0.0772 - val_loss: -0.5114 - val_acc: 0.0876\n",
            "Epoch 126/200\n",
            "467/467 [==============================] - 7s 16ms/step - loss: -0.3919 - acc: 0.0798 - val_loss: -0.5063 - val_acc: 0.0863\n",
            "Epoch 127/200\n",
            "467/467 [==============================] - 7s 16ms/step - loss: -0.3914 - acc: 0.0807 - val_loss: -0.5107 - val_acc: 0.0833\n",
            "Epoch 128/200\n",
            "467/467 [==============================] - 7s 16ms/step - loss: -0.3909 - acc: 0.0755 - val_loss: -0.5127 - val_acc: 0.0855\n",
            "Epoch 129/200\n",
            "467/467 [==============================] - 7s 15ms/step - loss: -0.3925 - acc: 0.0793 - val_loss: -0.5088 - val_acc: 0.0863\n",
            "Epoch 130/200\n",
            "467/467 [==============================] - 7s 16ms/step - loss: -0.3910 - acc: 0.0759 - val_loss: -0.5123 - val_acc: 0.0842\n",
            "Epoch 131/200\n",
            "467/467 [==============================] - 7s 16ms/step - loss: -0.3887 - acc: 0.0792 - val_loss: -0.5166 - val_acc: 0.0791\n",
            "Epoch 132/200\n",
            "467/467 [==============================] - 7s 16ms/step - loss: -0.3900 - acc: 0.0709 - val_loss: -0.5147 - val_acc: 0.0876\n",
            "Epoch 133/200\n",
            "467/467 [==============================] - 7s 15ms/step - loss: -0.3912 - acc: 0.0713 - val_loss: -0.5123 - val_acc: 0.0868\n",
            "Epoch 134/200\n",
            "467/467 [==============================] - 7s 16ms/step - loss: -0.3924 - acc: 0.0779 - val_loss: -0.5119 - val_acc: 0.0906\n",
            "Epoch 135/200\n",
            "467/467 [==============================] - 7s 16ms/step - loss: -0.3914 - acc: 0.0796 - val_loss: -0.5122 - val_acc: 0.0889\n",
            "Epoch 136/200\n",
            "467/467 [==============================] - 7s 16ms/step - loss: -0.3927 - acc: 0.0726 - val_loss: -0.5131 - val_acc: 0.0850\n",
            "Epoch 137/200\n",
            "467/467 [==============================] - 7s 16ms/step - loss: -0.3927 - acc: 0.0827 - val_loss: -0.5100 - val_acc: 0.0906\n",
            "Epoch 138/200\n",
            "467/467 [==============================] - 7s 16ms/step - loss: -0.3925 - acc: 0.0810 - val_loss: -0.5133 - val_acc: 0.0846\n",
            "Epoch 139/200\n",
            "467/467 [==============================] - 7s 16ms/step - loss: -0.3927 - acc: 0.0768 - val_loss: -0.5129 - val_acc: 0.0778\n",
            "Epoch 140/200\n",
            "467/467 [==============================] - 7s 15ms/step - loss: -0.3934 - acc: 0.0813 - val_loss: -0.5108 - val_acc: 0.0872\n",
            "Epoch 141/200\n",
            "467/467 [==============================] - 8s 16ms/step - loss: -0.3937 - acc: 0.0848 - val_loss: -0.5111 - val_acc: 0.0812\n",
            "Epoch 142/200\n",
            "467/467 [==============================] - 7s 16ms/step - loss: -0.3926 - acc: 0.0812 - val_loss: -0.5084 - val_acc: 0.0889\n",
            "Epoch 143/200\n",
            "467/467 [==============================] - 7s 16ms/step - loss: -0.3928 - acc: 0.0814 - val_loss: -0.5108 - val_acc: 0.0863\n",
            "Epoch 144/200\n",
            "467/467 [==============================] - 7s 16ms/step - loss: -0.3943 - acc: 0.0742 - val_loss: -0.5090 - val_acc: 0.0855\n",
            "Epoch 145/200\n",
            "467/467 [==============================] - 7s 16ms/step - loss: -0.3930 - acc: 0.0775 - val_loss: -0.5079 - val_acc: 0.0812\n",
            "Epoch 146/200\n",
            "467/467 [==============================] - 7s 16ms/step - loss: -0.3934 - acc: 0.0792 - val_loss: -0.5140 - val_acc: 0.0821\n",
            "Epoch 147/200\n",
            "467/467 [==============================] - 7s 16ms/step - loss: -0.3933 - acc: 0.0772 - val_loss: -0.5087 - val_acc: 0.0829\n",
            "Epoch 148/200\n",
            "467/467 [==============================] - 7s 16ms/step - loss: -0.3918 - acc: 0.0788 - val_loss: -0.5032 - val_acc: 0.0859\n",
            "Epoch 149/200\n",
            "467/467 [==============================] - 8s 16ms/step - loss: -0.3915 - acc: 0.0785 - val_loss: -0.5104 - val_acc: 0.0744\n",
            "Epoch 150/200\n",
            "467/467 [==============================] - 8s 17ms/step - loss: -0.3887 - acc: 0.0822 - val_loss: -0.5071 - val_acc: 0.0821\n",
            "Epoch 151/200\n",
            "467/467 [==============================] - 7s 16ms/step - loss: -0.3919 - acc: 0.0797 - val_loss: -0.5091 - val_acc: 0.0821\n",
            "Epoch 152/200\n",
            "467/467 [==============================] - 7s 16ms/step - loss: -0.3929 - acc: 0.0749 - val_loss: -0.5077 - val_acc: 0.0765\n",
            "Epoch 153/200\n",
            "467/467 [==============================] - 7s 16ms/step - loss: -0.3942 - acc: 0.0805 - val_loss: -0.5094 - val_acc: 0.0885\n",
            "Epoch 154/200\n",
            "467/467 [==============================] - 7s 16ms/step - loss: -0.3935 - acc: 0.0790 - val_loss: -0.5095 - val_acc: 0.0791\n",
            "Epoch 155/200\n",
            "467/467 [==============================] - 7s 16ms/step - loss: -0.3944 - acc: 0.0799 - val_loss: -0.5092 - val_acc: 0.0855\n",
            "Epoch 156/200\n",
            "467/467 [==============================] - 7s 16ms/step - loss: -0.3944 - acc: 0.0885 - val_loss: -0.5078 - val_acc: 0.0752\n",
            "Epoch 157/200\n",
            "467/467 [==============================] - 7s 16ms/step - loss: -0.3924 - acc: 0.0785 - val_loss: -0.5105 - val_acc: 0.0778\n",
            "Epoch 158/200\n",
            "467/467 [==============================] - 7s 16ms/step - loss: -0.3916 - acc: 0.0749 - val_loss: -0.5093 - val_acc: 0.0778\n",
            "Epoch 159/200\n",
            "467/467 [==============================] - 8s 16ms/step - loss: -0.3938 - acc: 0.0805 - val_loss: -0.5095 - val_acc: 0.0765\n",
            "Epoch 160/200\n",
            "467/467 [==============================] - 8s 17ms/step - loss: -0.3940 - acc: 0.0753 - val_loss: -0.5105 - val_acc: 0.0786\n",
            "Epoch 161/200\n",
            "467/467 [==============================] - 7s 16ms/step - loss: -0.3938 - acc: 0.0840 - val_loss: -0.5111 - val_acc: 0.0885\n",
            "Epoch 162/200\n",
            "467/467 [==============================] - 7s 16ms/step - loss: -0.3927 - acc: 0.0847 - val_loss: -0.5126 - val_acc: 0.0927\n",
            "Epoch 163/200\n",
            "467/467 [==============================] - 7s 16ms/step - loss: -0.3928 - acc: 0.0823 - val_loss: -0.5080 - val_acc: 0.0850\n",
            "Epoch 164/200\n",
            "467/467 [==============================] - 7s 16ms/step - loss: -0.3936 - acc: 0.0815 - val_loss: -0.5111 - val_acc: 0.0846\n",
            "Epoch 165/200\n",
            "467/467 [==============================] - 8s 16ms/step - loss: -0.3946 - acc: 0.0785 - val_loss: -0.5109 - val_acc: 0.0838\n",
            "Epoch 166/200\n",
            "467/467 [==============================] - 7s 16ms/step - loss: -0.3957 - acc: 0.0813 - val_loss: -0.5113 - val_acc: 0.0821\n",
            "Epoch 167/200\n",
            "467/467 [==============================] - 7s 16ms/step - loss: -0.3947 - acc: 0.0827 - val_loss: -0.5053 - val_acc: 0.0833\n",
            "Epoch 168/200\n",
            "467/467 [==============================] - 7s 16ms/step - loss: -0.3940 - acc: 0.0834 - val_loss: -0.5105 - val_acc: 0.0833\n",
            "Epoch 169/200\n",
            "467/467 [==============================] - 7s 16ms/step - loss: -0.3948 - acc: 0.0810 - val_loss: -0.5097 - val_acc: 0.0829\n",
            "Epoch 170/200\n",
            "467/467 [==============================] - 7s 16ms/step - loss: -0.3950 - acc: 0.0868 - val_loss: -0.5129 - val_acc: 0.0838\n",
            "Epoch 171/200\n",
            "467/467 [==============================] - 8s 16ms/step - loss: -0.3950 - acc: 0.0781 - val_loss: -0.5103 - val_acc: 0.0859\n",
            "Epoch 172/200\n",
            "467/467 [==============================] - 8s 16ms/step - loss: -0.3956 - acc: 0.0794 - val_loss: -0.5122 - val_acc: 0.0940\n",
            "Epoch 173/200\n",
            "467/467 [==============================] - 8s 17ms/step - loss: -0.3953 - acc: 0.0855 - val_loss: -0.5145 - val_acc: 0.0846\n",
            "Epoch 174/200\n",
            "467/467 [==============================] - 7s 16ms/step - loss: -0.3953 - acc: 0.0861 - val_loss: -0.5099 - val_acc: 0.0893\n",
            "Epoch 175/200\n",
            "467/467 [==============================] - 7s 16ms/step - loss: -0.3966 - acc: 0.0860 - val_loss: -0.5113 - val_acc: 0.0902\n",
            "Epoch 176/200\n",
            "467/467 [==============================] - 7s 16ms/step - loss: -0.3972 - acc: 0.0864 - val_loss: -0.5117 - val_acc: 0.0846\n",
            "Epoch 177/200\n",
            "467/467 [==============================] - 7s 16ms/step - loss: -0.3966 - acc: 0.0862 - val_loss: -0.5134 - val_acc: 0.0808\n",
            "Epoch 178/200\n",
            "467/467 [==============================] - 7s 16ms/step - loss: -0.3974 - acc: 0.0831 - val_loss: -0.5129 - val_acc: 0.0927\n",
            "Epoch 179/200\n"
          ]
        },
        {
          "name": "stdout",
          "output_type": "stream",
          "text": [
            "467/467 [==============================] - 8s 16ms/step - loss: -0.3958 - acc: 0.0846 - val_loss: -0.5130 - val_acc: 0.0855\n",
            "Epoch 180/200\n",
            "467/467 [==============================] - 8s 17ms/step - loss: -0.3965 - acc: 0.0850 - val_loss: -0.5099 - val_acc: 0.0940\n",
            "Epoch 181/200\n",
            "467/467 [==============================] - 7s 16ms/step - loss: -0.3971 - acc: 0.0849 - val_loss: -0.5096 - val_acc: 0.0885\n",
            "Epoch 182/200\n",
            "467/467 [==============================] - 7s 16ms/step - loss: -0.3966 - acc: 0.0834 - val_loss: -0.5080 - val_acc: 0.0829\n",
            "Epoch 183/200\n",
            "467/467 [==============================] - 7s 16ms/step - loss: -0.3963 - acc: 0.0850 - val_loss: -0.5096 - val_acc: 0.0842\n",
            "Epoch 184/200\n",
            "467/467 [==============================] - 7s 16ms/step - loss: -0.3971 - acc: 0.0840 - val_loss: -0.5125 - val_acc: 0.0872\n",
            "Epoch 185/200\n",
            "467/467 [==============================] - 7s 16ms/step - loss: -0.3969 - acc: 0.0850 - val_loss: -0.5138 - val_acc: 0.0932\n",
            "Epoch 186/200\n",
            "467/467 [==============================] - 7s 16ms/step - loss: -0.3957 - acc: 0.0797 - val_loss: -0.5132 - val_acc: 0.0880\n",
            "Epoch 187/200\n",
            "467/467 [==============================] - 7s 16ms/step - loss: -0.3955 - acc: 0.0859 - val_loss: -0.5117 - val_acc: 0.0906\n",
            "Epoch 188/200\n",
            "467/467 [==============================] - 7s 16ms/step - loss: -0.3950 - acc: 0.0824 - val_loss: -0.5102 - val_acc: 0.0855\n",
            "Epoch 189/200\n",
            "467/467 [==============================] - 7s 16ms/step - loss: -0.3954 - acc: 0.0832 - val_loss: -0.5108 - val_acc: 0.0863\n",
            "Epoch 190/200\n",
            "467/467 [==============================] - 7s 16ms/step - loss: -0.3962 - acc: 0.0837 - val_loss: -0.5070 - val_acc: 0.0910\n",
            "Epoch 191/200\n",
            "467/467 [==============================] - 7s 16ms/step - loss: -0.3976 - acc: 0.0866 - val_loss: -0.5122 - val_acc: 0.0910\n",
            "Epoch 192/200\n",
            "467/467 [==============================] - 7s 16ms/step - loss: -0.3975 - acc: 0.0855 - val_loss: -0.5108 - val_acc: 0.0919\n",
            "Epoch 193/200\n",
            "467/467 [==============================] - 7s 16ms/step - loss: -0.3971 - acc: 0.0799 - val_loss: -0.5127 - val_acc: 0.0944\n",
            "Epoch 194/200\n",
            "467/467 [==============================] - 7s 16ms/step - loss: -0.3969 - acc: 0.0870 - val_loss: -0.5112 - val_acc: 0.0953\n",
            "Epoch 195/200\n",
            "467/467 [==============================] - 7s 16ms/step - loss: -0.3970 - acc: 0.0908 - val_loss: -0.5115 - val_acc: 0.0949\n",
            "Epoch 196/200\n",
            "467/467 [==============================] - 7s 16ms/step - loss: -0.3978 - acc: 0.0865 - val_loss: -0.5092 - val_acc: 0.0949\n",
            "Epoch 197/200\n",
            "467/467 [==============================] - 7s 16ms/step - loss: -0.3981 - acc: 0.0829 - val_loss: -0.5077 - val_acc: 0.0949\n",
            "Epoch 198/200\n",
            "467/467 [==============================] - 8s 17ms/step - loss: -0.3977 - acc: 0.0899 - val_loss: -0.5095 - val_acc: 0.0855\n",
            "Epoch 199/200\n",
            "467/467 [==============================] - 7s 16ms/step - loss: -0.3957 - acc: 0.0862 - val_loss: -0.5069 - val_acc: 0.0842\n",
            "Epoch 200/200\n",
            "467/467 [==============================] - 8s 16ms/step - loss: -0.3966 - acc: 0.0845 - val_loss: -0.5119 - val_acc: 0.0859\n"
          ]
        },
        {
          "data": {
            "text/plain": [
              "<keras.callbacks.History at 0x2cc6c4d95f8>"
            ]
          },
          "execution_count": 46,
          "metadata": {},
          "output_type": "execute_result"
        }
      ],
      "source": [
        "model.fit(x_train, y_train, nb_epoch=200,validation_data=(x_test, y_test))"
      ]
    },
    {
      "cell_type": "code",
      "execution_count": null,
      "metadata": {
        "id": "szHW2RF7uVt2"
      },
      "outputs": [],
      "source": [
        "model.save('LSTM_chatbot.h5')"
      ]
    },
    {
      "cell_type": "code",
      "execution_count": null,
      "metadata": {
        "id": "JEH7565HuVt2"
      },
      "outputs": [],
      "source": []
    },
    {
      "cell_type": "code",
      "execution_count": null,
      "metadata": {
        "id": "5Qj82wt9uVt2"
      },
      "outputs": [],
      "source": []
    },
    {
      "cell_type": "code",
      "execution_count": null,
      "metadata": {
        "id": "-SqsByWouVt2"
      },
      "outputs": [],
      "source": []
    }
  ],
  "metadata": {
    "kernelspec": {
      "display_name": "Python 3",
      "language": "python",
      "name": "python3"
    },
    "language_info": {
      "codemirror_mode": {
        "name": "ipython",
        "version": 3
      },
      "file_extension": ".py",
      "mimetype": "text/x-python",
      "name": "python",
      "nbconvert_exporter": "python",
      "pygments_lexer": "ipython3",
      "version": "3.6.5"
    },
    "colab": {
      "provenance": []
    }
  },
  "nbformat": 4,
  "nbformat_minor": 0
}